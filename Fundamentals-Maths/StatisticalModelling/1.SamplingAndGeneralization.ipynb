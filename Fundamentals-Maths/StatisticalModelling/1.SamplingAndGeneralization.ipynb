{
 "cells": [
  {
   "cell_type": "markdown",
   "id": "469d5579",
   "metadata": {},
   "source": [
    "# Sampling and Generlization\n",
    "\n",
    "In this section we will cover topics realted to **population** and **Sampling**.\n",
    "\n",
    "### Population versus Sample\n",
    "\n",
    "Statistical modelling is to answer question about the group by making inference about the group.\n",
    "The group maybe anything people in a factory, number of cars produced by a plant etc. The entire group in statistics is refered to as **population**.\n",
    " \n",
    "In most cases , the population size maybe to hard to any analysis on . Hence in statitics we will consider a subset of the population and we call it as **Sample** .\n",
    "\n",
    "Sometimes in order to achieve `epresentative inference`, we need to have a `represnetative sample` and hence avoid what in statistics we call as `Bias`.   \n",
    "\n",
    "In the coming sections we will cover topics on How to create a sample that is representative of the population. This includes the size of sample , the distribution that needs to be considered."
   ]
  },
  {
   "cell_type": "markdown",
   "id": "32d2368e",
   "metadata": {},
   "source": [
    "## Population inference from Samples\n",
    "\n",
    "When using a statistical model to make inferential conclusions about a population from a sample subset\n",
    "of that population, the study design must account for similar degrees of uncertainty in its variables as those in the population. \n",
    "\n",
    "This is the variation mentioned earlier in this chapter. To appropriately drawinferential conclusions about a population, any statistical model must be structured around a chance\n",
    "mechanism. Studies structured around these chance mechanisms are called randomized experiments\n",
    "and provide an understanding of both correlation and causation.\n",
    "\n",
    "\n",
    "### Randomize Experiments\n",
    "\n",
    "There two charectaristics of randomize experiment:\n",
    "\n",
    "1. Random Sampling colloquially refered to as random selection.\n",
    "\n",
    "2. Random assigmnent of treatments which is the nature of the study.\n",
    "\n",
    "### Random Sampling\n",
    "\n",
    "Random sampling (also called random selection) is designed with the intent of creating a sample\n",
    "representative of the overall population so that statistical models generalize the population well enough to assign cause-and-effect outcomes. In order for random sampling to be successful, the population of interest must be well defined. All samples taken from the population must have a chance of being selected.\n",
    "\n",
    "Consider the following example of **polling voters**:\n",
    "\n",
    "All voters mut be polled.  Sampling\n",
    "from only voters who are willing to be polled introduces sampling bias into statistical modeling, which can lead to skewed results.\n",
    "The sampling method in the scenario where only some voters are willing to participate is called **self-selection**. Any information obtained and modeled from self-selected samples – or any non-random samples – cannot be used for inference.\n",
    "\n",
    "#### Random Assigment of treatments\n",
    "\n",
    "The random assignment of treatments refer to two motivatiors:\n",
    "\n",
    "1. First motivators it gain an understanding of the specific input variables and their influence on the reponse.\n",
    "\n",
    "2. Second motivators it to remove undwanted outliners called **Confounding Variables**"
   ]
  },
  {
   "cell_type": "markdown",
   "id": "a7795dab",
   "metadata": {},
   "source": []
  }
 ],
 "metadata": {
  "kernelspec": {
   "display_name": "Python 3",
   "language": "python",
   "name": "python3"
  },
  "language_info": {
   "name": "python",
   "version": "3.13.0"
  }
 },
 "nbformat": 4,
 "nbformat_minor": 5
}
